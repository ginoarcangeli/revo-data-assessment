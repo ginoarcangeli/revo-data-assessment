{
 "cells": [
  {
   "cell_type": "code",
   "execution_count": 2,
   "metadata": {},
   "outputs": [],
   "source": [
    "# Importing necessary libraries\n",
    "from pyspark.sql import SparkSession\n",
    "import pyspark.sql.functions as F"
   ]
  },
  {
   "cell_type": "code",
   "execution_count": 3,
   "metadata": {},
   "outputs": [
    {
     "name": "stderr",
     "output_type": "stream",
     "text": [
      "Setting default log level to \"WARN\".\n",
      "To adjust logging level use sc.setLogLevel(newLevel). For SparkR, use setLogLevel(newLevel).\n",
      "24/12/10 00:47:28 WARN NativeCodeLoader: Unable to load native-hadoop library for your platform... using builtin-java classes where applicable\n",
      "24/12/10 00:47:30 WARN Utils: Service 'SparkUI' could not bind on port 4040. Attempting port 4041.\n",
      "                                                                                \r"
     ]
    }
   ],
   "source": [
    "# Create a Spark session\n",
    "spark = SparkSession.builder \\\n",
    "    .appName(\"EDA with PySpark\") \\\n",
    "    .getOrCreate()\n",
    "\n",
    "# Load the datasets\n",
    "airbnb_file_path = '../data/airbnb.csv'\n",
    "airbnb_df = spark.read.csv(airbnb_file_path, header=True, inferSchema=True)\n",
    "\n",
    "rentals_file_path = '../data/rentals.json'\n",
    "rentals_df = spark.read.json(rentals_file_path)"
   ]
  },
  {
   "cell_type": "markdown",
   "metadata": {},
   "source": [
    "### 1. EDA for the AirBnB dataset"
   ]
  },
  {
   "cell_type": "code",
   "execution_count": 4,
   "metadata": {},
   "outputs": [
    {
     "name": "stdout",
     "output_type": "stream",
     "text": [
      "root\n",
      " |-- zipcode: string (nullable = true)\n",
      " |-- latitude: double (nullable = true)\n",
      " |-- longitude: double (nullable = true)\n",
      " |-- room_type: string (nullable = true)\n",
      " |-- accommodates: integer (nullable = true)\n",
      " |-- bedrooms: double (nullable = true)\n",
      " |-- price: integer (nullable = true)\n",
      " |-- review_scores_value: double (nullable = true)\n",
      "\n"
     ]
    }
   ],
   "source": [
    "# Display the schema of the DataFrame\n",
    "airbnb_df.printSchema()"
   ]
  },
  {
   "cell_type": "code",
   "execution_count": 5,
   "metadata": {},
   "outputs": [
    {
     "name": "stdout",
     "output_type": "stream",
     "text": [
      "The dataset contains 9913 rows and 8 columns.\n"
     ]
    }
   ],
   "source": [
    "# Get the number of rows and columns\n",
    "num_rows = airbnb_df.count()\n",
    "num_columns = len(airbnb_df.columns)\n",
    "print(f\"The dataset contains {num_rows} rows and {num_columns} columns.\")"
   ]
  },
  {
   "cell_type": "code",
   "execution_count": 6,
   "metadata": {},
   "outputs": [
    {
     "name": "stderr",
     "output_type": "stream",
     "text": [
      "24/12/10 00:47:44 WARN SparkStringUtils: Truncated the string representation of a plan since it was too large. This behavior can be adjusted by setting 'spark.sql.debug.maxToStringFields'.\n",
      "[Stage 8:>                                                          (0 + 1) / 1]\r"
     ]
    },
    {
     "name": "stdout",
     "output_type": "stream",
     "text": [
      "+-------+------------------+--------------------+--------------------+---------------+------------------+------------------+------------------+-------------------+\n",
      "|summary|           zipcode|            latitude|           longitude|      room_type|      accommodates|          bedrooms|             price|review_scores_value|\n",
      "+-------+------------------+--------------------+--------------------+---------------+------------------+------------------+------------------+-------------------+\n",
      "|  count|              7660|                9913|                9913|           9913|              9913|              9899|              9913|               8202|\n",
      "|   mean|1049.7217948717948|   52.36613477824987|   4.888701607375185|           NULL| 3.044789670130132|1.3891302151732499|222.19388681529304|   91.4459887832236|\n",
      "| stddev| 33.18556895939768|0.015259527481107983|0.032085220077320474|           NULL|1.6378700743324222|0.8583837323489234|290.78709517530905|  8.453049089025308|\n",
      "|    min|                  |            52.29031|         4.763264201|Entire home/apt|                 1|               0.0|                15|               20.0|\n",
      "|    max|                 b|         52.42538071|         5.019667018|    Shared room|                16|              10.0|              9000|              100.0|\n",
      "+-------+------------------+--------------------+--------------------+---------------+------------------+------------------+------------------+-------------------+\n",
      "\n"
     ]
    },
    {
     "name": "stderr",
     "output_type": "stream",
     "text": [
      "                                                                                \r"
     ]
    }
   ],
   "source": [
    "# Summary statistics for numerical columns\n",
    "airbnb_df.describe().show()"
   ]
  },
  {
   "cell_type": "code",
   "execution_count": 7,
   "metadata": {},
   "outputs": [
    {
     "name": "stdout",
     "output_type": "stream",
     "text": [
      "+-------+--------+---------+---------+------------+--------+-----+-------------------+\n",
      "|zipcode|latitude|longitude|room_type|accommodates|bedrooms|price|review_scores_value|\n",
      "+-------+--------+---------+---------+------------+--------+-----+-------------------+\n",
      "|   2253|       0|        0|        0|           0|      14|    0|               1711|\n",
      "+-------+--------+---------+---------+------------+--------+-----+-------------------+\n",
      "\n"
     ]
    }
   ],
   "source": [
    "# Check for missing values\n",
    "missing_value_count = airbnb_df.select([F.count(F.when(F.isnan(c) | F.col(c).isNull(), c)).alias(c) for c in airbnb_df.columns])\n",
    "missing_value_count.show()"
   ]
  },
  {
   "cell_type": "code",
   "execution_count": 8,
   "metadata": {},
   "outputs": [
    {
     "name": "stderr",
     "output_type": "stream",
     "text": [
      "[Stage 12:>                                                         (0 + 1) / 1]\r"
     ]
    },
    {
     "name": "stdout",
     "output_type": "stream",
     "text": [
      "+--------+-----+\n",
      "|bedrooms|count|\n",
      "+--------+-----+\n",
      "|     8.0|    3|\n",
      "|     0.0|  489|\n",
      "|     7.0|    5|\n",
      "|    NULL|   14|\n",
      "|     1.0| 6298|\n",
      "|     4.0|  152|\n",
      "|     3.0|  619|\n",
      "|     2.0| 2268|\n",
      "|    10.0|    7|\n",
      "|     6.0|    9|\n",
      "|     5.0|   43|\n",
      "|     9.0|    6|\n",
      "+--------+-----+\n",
      "\n"
     ]
    },
    {
     "name": "stderr",
     "output_type": "stream",
     "text": [
      "                                                                                \r"
     ]
    }
   ],
   "source": [
    "# Display the distribution of a specific column (replace 'column_name' with an actual column)\n",
    "airbnb_df.groupBy('bedrooms').count().show()"
   ]
  },
  {
   "cell_type": "markdown",
   "metadata": {},
   "source": [
    "### 2. EDA for the rentals dataset"
   ]
  },
  {
   "cell_type": "code",
   "execution_count": 9,
   "metadata": {},
   "outputs": [
    {
     "name": "stdout",
     "output_type": "stream",
     "text": [
      "root\n",
      " |-- _id: array (nullable = true)\n",
      " |    |-- element: string (containsNull = true)\n",
      " |-- additionalCostsRaw: string (nullable = true)\n",
      " |-- areaSqm: string (nullable = true)\n",
      " |-- availability: string (nullable = true)\n",
      " |-- city: string (nullable = true)\n",
      " |-- crawlStatus: string (nullable = true)\n",
      " |-- crawledAt: array (nullable = true)\n",
      " |    |-- element: string (containsNull = true)\n",
      " |-- deposit: string (nullable = true)\n",
      " |-- descriptionTranslated: string (nullable = true)\n",
      " |-- detailsCrawledAt: array (nullable = true)\n",
      " |    |-- element: string (containsNull = true)\n",
      " |-- energyLabel: string (nullable = true)\n",
      " |-- firstSeenAt: array (nullable = true)\n",
      " |    |-- element: string (containsNull = true)\n",
      " |-- furnish: string (nullable = true)\n",
      " |-- gender: string (nullable = true)\n",
      " |-- internet: string (nullable = true)\n",
      " |-- isRoomActive: string (nullable = true)\n",
      " |-- kitchen: string (nullable = true)\n",
      " |-- lastSeenAt: array (nullable = true)\n",
      " |    |-- element: string (containsNull = true)\n",
      " |-- latitude: string (nullable = true)\n",
      " |-- living: string (nullable = true)\n",
      " |-- longitude: string (nullable = true)\n",
      " |-- matchCapacity: string (nullable = true)\n",
      " |-- pageDescription: string (nullable = true)\n",
      " |-- pageTitle: string (nullable = true)\n",
      " |-- pets: string (nullable = true)\n",
      " |-- postalCode: string (nullable = true)\n",
      " |-- postedAgo: string (nullable = true)\n",
      " |-- propertyType: string (nullable = true)\n",
      " |-- registrationCost: string (nullable = true)\n",
      " |-- rent: string (nullable = true)\n",
      " |-- roommates: string (nullable = true)\n",
      " |-- shower: string (nullable = true)\n",
      " |-- smokingInside: string (nullable = true)\n",
      " |-- source: string (nullable = true)\n",
      " |-- title: string (nullable = true)\n",
      " |-- toilet: string (nullable = true)\n",
      "\n"
     ]
    }
   ],
   "source": [
    "# Display the schema of the DataFrame\n",
    "rentals_df.printSchema()"
   ]
  },
  {
   "cell_type": "code",
   "execution_count": 10,
   "metadata": {},
   "outputs": [
    {
     "name": "stderr",
     "output_type": "stream",
     "text": [
      "[Stage 15:==================================================>       (7 + 1) / 8]\r"
     ]
    },
    {
     "name": "stdout",
     "output_type": "stream",
     "text": [
      "The dataset contains 46722 rows and 36 columns.\n"
     ]
    },
    {
     "name": "stderr",
     "output_type": "stream",
     "text": [
      "                                                                                \r"
     ]
    }
   ],
   "source": [
    "# Get the number of rows and columns\n",
    "num_rows = rentals_df.count()\n",
    "num_columns = len(rentals_df.columns)\n",
    "print(f\"The dataset contains {num_rows} rows and {num_columns} columns.\")"
   ]
  },
  {
   "cell_type": "code",
   "execution_count": 11,
   "metadata": {},
   "outputs": [
    {
     "name": "stderr",
     "output_type": "stream",
     "text": [
      "[Stage 20:>                                                         (0 + 1) / 1]\r"
     ]
    },
    {
     "name": "stdout",
     "output_type": "stream",
     "text": [
      "+-------+--------------------+-------+--------------------+------------+-----------+--------------------+---------------------+-----------+-----------+-------+--------+------------+-------+------------------+-------+------------------+-------------+--------------------+--------------------+-------------------+----------+------------------+------------+--------------------+--------------------+------------------+-------+-------------+--------+-------------------+-------+\n",
      "|summary|  additionalCostsRaw|areaSqm|        availability|        city|crawlStatus|             deposit|descriptionTranslated|energyLabel|    furnish| gender|internet|isRoomActive|kitchen|          latitude| living|         longitude|matchCapacity|     pageDescription|           pageTitle|               pets|postalCode|         postedAgo|propertyType|    registrationCost|                rent|         roommates| shower|smokingInside|  source|              title| toilet|\n",
      "+-------+--------------------+-------+--------------------+------------+-----------+--------------------+---------------------+-----------+-----------+-------+--------+------------+-------+------------------+-------+------------------+-------------+--------------------+--------------------+-------------------+----------+------------------+------------+--------------------+--------------------+------------------+-------+-------------+--------+-------------------+-------+\n",
      "|  count|               46622|  46722|               46722|       46722|      46722|               46622|                46622|      46622|      46722|  45810|   46622|       46622|  46622|             46722|  46622|             46722|        46622|               46622|               46622|              46622|     46722|             46722|       46722|               46622|               46722|             45810|  46622|        46622|   46722|              46722|  46622|\n",
      "|   mean|                NULL|   NULL|                NULL|        NULL|       NULL|                NULL|                 NULL|       NULL|       NULL|   NULL|    NULL|        NULL|   NULL| 52.20184564138943|   NULL| 5.314910729420909|         NULL|                NULL|                NULL|               NULL|      NULL|3.7782726260537616|        NULL|                NULL|                NULL|2.8037764735902018|   NULL|         NULL|    NULL|               NULL|   NULL|\n",
      "| stddev|                NULL|   NULL|                NULL|        NULL|       NULL|                NULL|                 NULL|       NULL|       NULL|   NULL|    NULL|        NULL|   NULL|0.5172030664336894|   NULL|0.7989891861164428|         NULL|                NULL|                NULL|               NULL|      NULL| 1.804750487043404|        NULL|                NULL|                NULL| 1.610727117602566|   NULL|         NULL|    NULL|               NULL|   NULL|\n",
      "|    min|\\n               ...|  10 m2|01-01-'18 - Indef...|'s-Graveland|       done|\\n               ...|                     |          A|           | Female|      No|       false|   None|     50.7700410000|   None|      3.4100160000|     1 person|Anti-squat for re...|Anti-squat for re...|By mutual agreement|    1011AG|                  |  Anti-squat|\\n               ...|               € 1,-|                 1|   None|           No|kamernet|'s Gravesandestraat|   None|\n",
      "|    max|               € 990|  99 m2|31-12-'20 - Indef...|    de Lutte|unavailable|             € 999  | 🦇 HUISGENOOTJE G...|    Unknown|Unfurnished|Unknown|     Yes|        true|Unknown|     53.4346080000|Unknown|      7.2066370000|Not important|Studio for rent i...|Studio for rent i...|                Yes|    9989BB|              New!|      Studio|                  NA|€ 999,-  Utilitie...|           Unknown|Unknown|          Yes|kamernet|    von Geusauplein|Unknown|\n",
      "+-------+--------------------+-------+--------------------+------------+-----------+--------------------+---------------------+-----------+-----------+-------+--------+------------+-------+------------------+-------+------------------+-------------+--------------------+--------------------+-------------------+----------+------------------+------------+--------------------+--------------------+------------------+-------+-------------+--------+-------------------+-------+\n",
      "\n"
     ]
    },
    {
     "name": "stderr",
     "output_type": "stream",
     "text": [
      "                                                                                \r"
     ]
    }
   ],
   "source": [
    "# Summary statistics for numerical columns\n",
    "rentals_df.describe().show()"
   ]
  },
  {
   "cell_type": "code",
   "execution_count": 12,
   "metadata": {},
   "outputs": [
    {
     "name": "stderr",
     "output_type": "stream",
     "text": [
      "[Stage 21:==================================================>       (7 + 1) / 8]\r"
     ]
    },
    {
     "name": "stdout",
     "output_type": "stream",
     "text": [
      "+------------------+-------+--------+---------+----------+----------------+----+\n",
      "|additionalCostsRaw|deposit|latitude|longitude|postalCode|registrationCost|rent|\n",
      "+------------------+-------+--------+---------+----------+----------------+----+\n",
      "|               100|    100|       0|        0|         0|             100|   0|\n",
      "+------------------+-------+--------+---------+----------+----------------+----+\n",
      "\n"
     ]
    },
    {
     "name": "stderr",
     "output_type": "stream",
     "text": [
      "                                                                                \r"
     ]
    }
   ],
   "source": [
    "# Check for missing values\n",
    "columns_of_interest = [\"additionalCostsRaw\", \"deposit\", \"latitude\", \"longitude\", \"postalCode\", \"registrationCost\", \"rent\"]\n",
    "missing_value_count = rentals_df.select([F.count(F.when(F.isnan(c) | F.col(c).isNull(), c)).alias(c) for c in columns_of_interest])\n",
    "missing_value_count.show()"
   ]
  },
  {
   "cell_type": "code",
   "execution_count": 13,
   "metadata": {},
   "outputs": [
    {
     "name": "stdout",
     "output_type": "stream",
     "text": [
      "+-------+-----------+-----------+---------------+------------+--------+-----+-------------------+\n",
      "|zipcode|latitude   |longitude  |room_type      |accommodates|bedrooms|price|review_scores_value|\n",
      "+-------+-----------+-----------+---------------+------------+--------+-----+-------------------+\n",
      "|1053   |52.37302064|4.868460923|Entire home/apt|4           |2.0     |130  |100.0              |\n",
      "|NULL   |52.36575451|4.941419235|Private room   |2           |1.0     |59   |100.0              |\n",
      "|1053   |52.36938767|4.866972319|Entire home/apt|4           |1.0     |95   |90.0               |\n",
      "|1017   |52.36190508|4.888050037|Entire home/apt|2           |1.0     |100  |100.0              |\n",
      "|1016 AM|52.37153345|4.887057291|Entire home/apt|6           |2.0     |250  |60.0               |\n",
      "|1016 AM|52.3713592 |4.888072287|Private room   |4           |1.0     |140  |NULL               |\n",
      "|1016 AM|52.3704458 |4.889069478|Private room   |2           |1.0     |115  |90.0               |\n",
      "|1071 VV|52.35564811|4.885834819|Private room   |2           |1.0     |80   |90.0               |\n",
      "|1078   |52.34591098|4.891982605|Private room   |3           |1.0     |80   |90.0               |\n",
      "|1015   |52.37935439|4.883276386|Entire home/apt|2           |1.0     |90   |90.0               |\n",
      "|1072   |52.35748276|4.887099593|Entire home/apt|3           |2.0     |100  |100.0              |\n",
      "|1056 TM|52.371207  |4.857291017|Entire home/apt|3           |2.0     |95   |100.0              |\n",
      "|1011 JX|52.36959599|4.899069358|Entire home/apt|2           |1.0     |145  |90.0               |\n",
      "|1013   |52.37801663|4.892703442|Entire home/apt|3           |1.0     |132  |90.0               |\n",
      "|1055XP |52.38141023|4.852742701|Entire home/apt|2           |1.0     |79   |100.0              |\n",
      "|1013   |52.38029988|4.885143665|Entire home/apt|4           |0.0     |180  |90.0               |\n",
      "|1013HE |52.38147315|4.886809875|Shared room    |1           |1.0     |75   |100.0              |\n",
      "|1053   |52.36761407|4.866895471|Private room   |2           |1.0     |82   |100.0              |\n",
      "|1059   |52.34658737|4.84919711 |Private room   |2           |1.0     |59   |90.0               |\n",
      "|1097 AM|52.3534049 |4.92442006 |Entire home/apt|2           |1.0     |99   |NULL               |\n",
      "+-------+-----------+-----------+---------------+------------+--------+-----+-------------------+\n",
      "only showing top 20 rows\n",
      "\n"
     ]
    }
   ],
   "source": [
    "airbnb_df.show(truncate=False)"
   ]
  },
  {
   "cell_type": "code",
   "execution_count": null,
   "metadata": {},
   "outputs": [],
   "source": []
  }
 ],
 "metadata": {
  "kernelspec": {
   "display_name": "revo-data",
   "language": "python",
   "name": "python3"
  },
  "language_info": {
   "codemirror_mode": {
    "name": "ipython",
    "version": 3
   },
   "file_extension": ".py",
   "mimetype": "text/x-python",
   "name": "python",
   "nbconvert_exporter": "python",
   "pygments_lexer": "ipython3",
   "version": "3.9.20"
  }
 },
 "nbformat": 4,
 "nbformat_minor": 2
}
